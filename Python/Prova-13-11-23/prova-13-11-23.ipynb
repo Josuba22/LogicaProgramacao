{
 "cells": [
  {
   "cell_type": "code",
   "execution_count": null,
   "metadata": {},
   "outputs": [],
   "source": [
    "#Q.01 - Crie duas variáveis, x e y, e atribua a elas valores numéricos diferentes.\n",
    "#Em seguida, imprima a subtração e a divisão desses números.\n",
    "\n",
    "x = 5\n",
    "y = 6\n",
    "\n",
    "print(f\"a subtração de x - y é: {x - y} e a multiplicação de x.y é: {x*y}.\")"
   ]
  },
  {
   "cell_type": "code",
   "execution_count": null,
   "metadata": {},
   "outputs": [],
   "source": [
    "#Q.02 - Crie uma lista com quatro frutas diferentes.\n",
    "#Use um loop for para imprimir cada fruta.\n",
    "\n",
    "fruta = [\"maçã\", \"banana\", \"goiaba\", \"abacaxi\"]\n",
    "\n",
    "for i in fruta:\n",
    "    print(i)"
   ]
  },
  {
   "cell_type": "code",
   "execution_count": null,
   "metadata": {},
   "outputs": [],
   "source": [
    "#Q.03 - Crie um dicionário com nome, idade e altura de uma pessoa, \n",
    "#imprima a altura da pessoa.\n",
    "\n",
    "pessoa = {\n",
    "    \"nome\": \"Julia\",\n",
    "    \"idade\": 17,\n",
    "    \"altura\": 1.65\n",
    "}\n",
    "\n",
    "print(pessoa[\"altura\"])"
   ]
  },
  {
   "cell_type": "code",
   "execution_count": null,
   "metadata": {},
   "outputs": [],
   "source": [
    "#Q.04 - Crie uma variável chamada altura e atribua um valor numérico. Use uma \n",
    "#instrução if para verificar se a pessoa tem 1.40 metros ou mais de altura para \n",
    "#poder utilizar o brinquedo do parque de diversões e imprima uma mensagem apropriada.\n",
    "\n",
    "altura = 1.65\n",
    "\n",
    "if altura >= 1.40:\n",
    "    print(f\"Tudo ok! Você pode utilizar o brinquedo do parque de diversões!\")\n",
    "else:\n",
    "    print(f\"Desculpe. Você não possui a altura apropriada para utilizar o brinquedo.\")"
   ]
  },
  {
   "cell_type": "code",
   "execution_count": null,
   "metadata": {},
   "outputs": [],
   "source": [
    "#Q.05 - Crie uma variável temperatura e atribua um valor numérico representando a \n",
    "#temperatura do processador do computador. Use if, elif e else para imprimir \n",
    "#mensagens diferentes dependendo da temperatura.\n",
    "#•\tTemperatura Baixa = Entre 0º e 35º\n",
    "#•\tTemperatura Mediana = Entre 36º e 57º\n",
    "#•\tTemperatura Alta = Entre 58º e 72º\n",
    "#•\tTemperatura Extrema = Entre 73º ou mais\n",
    "\n",
    "temp = 150\n",
    "\n",
    "if temp >= 0 and temp <= 35:\n",
    "    print(\"Temperatura Baixa\")\n",
    "elif temp >= 36 and temp <= 57:\n",
    "    print(\"Temperatura Mediana\")\n",
    "elif temp >= 58 and temp <= 72:\n",
    "    print(\"Temperatura Alta\")\n",
    "elif temp >= 73:\n",
    "    print(\"Temperatura Extrema\")\n",
    "else:\n",
    "    print(\"Desligue o PC. Risco de queima do processador\")"
   ]
  },
  {
   "cell_type": "code",
   "execution_count": 48,
   "metadata": {},
   "outputs": [
    {
     "name": "stdout",
     "output_type": "stream",
     "text": [
      "4\n",
      "5\n",
      "6\n",
      "7\n",
      "8\n",
      "9\n",
      "10\n",
      "11\n",
      "12\n"
     ]
    }
   ],
   "source": [
    "#Q.06 - Utilize um loop while para imprimir os números de 4 a 12.\n",
    "\n",
    "i = 4\n",
    "\n",
    "while i <=12:\n",
    "    print(i)\n",
    "    i += 1\n"
   ]
  },
  {
   "cell_type": "code",
   "execution_count": null,
   "metadata": {},
   "outputs": [],
   "source": [
    "#Q.07 - Use a seguinte lista de números no programa. Use um loop for para imprimir \n",
    "#apenas os números ímpares.\n",
    "#numeros = [1,2,3,4,5,6,7,8,9,10]\n",
    "\n",
    "numeros = [1,2,3,4,5,6,7,8,9,10]\n",
    "\n",
    "for i in numeros:\n",
    "    if i % 2 != 0:\n",
    "        print(i)"
   ]
  },
  {
   "cell_type": "code",
   "execution_count": null,
   "metadata": {},
   "outputs": [],
   "source": [
    "#Q.08 - Crie uma lista de frutas. Imprima o primeiro e o último item da lista.\n",
    "\n",
    "frutas = [\"acerola\", \"banana\", \"goiaba\", \"limão\"]\n",
    "\n",
    "print(f\"O primeiro item da lista é {frutas[0]} e o último item é {frutas[len(frutas)-1]}\")"
   ]
  },
  {
   "cell_type": "code",
   "execution_count": null,
   "metadata": {},
   "outputs": [],
   "source": [
    "#Q.09 - Use um loop for e a função range para imprimir os números de (-1) a (-10).\n",
    "\n",
    "for i in range(-1, -11, -1):\n",
    "    print(i)"
   ]
  },
  {
   "cell_type": "code",
   "execution_count": null,
   "metadata": {},
   "outputs": [],
   "source": [
    "#Q.10 - Crie uma lista de lanches e use uma instrução if para verificar se 'coxinha' \n",
    "#está na lista. Imprima uma mensagem apropriada.\n",
    "\n",
    "lanches = [\"pastel\", \"coxinha\", \"hamburguer\", \"esfirra\"]\n",
    "\n",
    "if \"coxinha\" in lanches:\n",
    "    print(F\"coxinha está na lista\")\n",
    "else:\n",
    "    print(\"Item não consta na lista\")"
   ]
  }
 ],
 "metadata": {
  "kernelspec": {
   "display_name": "Python 3",
   "language": "python",
   "name": "python3"
  },
  "language_info": {
   "codemirror_mode": {
    "name": "ipython",
    "version": 3
   },
   "file_extension": ".py",
   "mimetype": "text/x-python",
   "name": "python",
   "nbconvert_exporter": "python",
   "pygments_lexer": "ipython3",
   "version": "3.12.0"
  }
 },
 "nbformat": 4,
 "nbformat_minor": 2
}
