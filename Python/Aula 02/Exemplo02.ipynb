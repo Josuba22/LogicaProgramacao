{
 "cells": [
  {
   "cell_type": "code",
   "execution_count": null,
   "metadata": {},
   "outputs": [],
   "source": [
    "# Entrada de dados\n",
    "\n",
    "nome = input(\"Digite seu nome: \")          # Por padrão o input trás texto\n",
    "idade = int(input(\"Digite a sua idade: \")) # Temos que converter a idade que foi passada em texto para inteiro\n",
    "nota = int(input(\"Digite sua Nota: \"))     # Convertendo também a nota para inteiro"
   ]
  },
  {
   "cell_type": "code",
   "execution_count": null,
   "metadata": {},
   "outputs": [],
   "source": [
    "a = 10\n",
    "b = 20\n",
    "\n",
    "# Operadores relacionais\n",
    "\n",
    "print(a==b)\n",
    "print(a==b)     # a \"é igual a\" b?\n",
    "print(a>b)      # a \"é maior que\" b?\n",
    "print(a<b)      # a \"é menor que\" b?\n",
    "print(a!=b)     # a \"é diferente a\" b?\n",
    "print(a>=b)     # a \"é maior ou igual que\" b?\n",
    "print(a<=b)     # a \"é menor ou igual que\" b?"
   ]
  },
  {
   "cell_type": "code",
   "execution_count": null,
   "metadata": {},
   "outputs": [],
   "source": [
    "a = 10\n",
    "b = 20\n",
    "\n",
    "# Operadores lógicos\n",
    "\n",
    "print(a==b and 2*a>b)   # a \"é igual a\" b \"e\" 2*a \"é maior que\" b?\n",
    "print(a==b or 2*a>b)    # a \"é igual a\" b \"ou\" 2*a \"é maior que\" b?\n",
    "print(not a>b)          # a \"NÃO é maior que\" b?"
   ]
  },
  {
   "cell_type": "code",
   "execution_count": null,
   "metadata": {},
   "outputs": [],
   "source": [
    "# Estrutura Condicional IF\n",
    "\n",
    "idade = 18\n",
    "\n",
    "if idade >= 18:\n",
    "  print(\"De maior\")"
   ]
  },
  {
   "cell_type": "code",
   "execution_count": null,
   "metadata": {},
   "outputs": [],
   "source": [
    "# Estrutura Condicional IF - ELSE\n",
    "\n",
    "nota = 6\n",
    "\n",
    "if nota >= 7:\n",
    "  print(\"Aprovado\")\n",
    "else:\n",
    "  print(\"Reprovado\")"
   ]
  },
  {
   "cell_type": "code",
   "execution_count": null,
   "metadata": {},
   "outputs": [],
   "source": [
    "# Estrutura Condicional IF - ELIF - ELSE\n",
    "\n",
    "media = 7\n",
    "\n",
    "if media==10:\n",
    "  print(\"Aprovado e laureado\")\n",
    "elif media>=9 and media<10:\n",
    "  print(\"Aprovado com honra ao mérito\")\n",
    "elif media>=7:\n",
    "  print(\"Aprovado\")\n",
    "elif media>=6:\n",
    "  print(\"Prova final\")\n",
    "elif media>=4:\n",
    "  print(\"Recuperação\")\n",
    "else:\n",
    "  print(\"Reprovado\")"
   ]
  }
 ],
 "metadata": {
  "language_info": {
   "name": "python"
  }
 },
 "nbformat": 4,
 "nbformat_minor": 2
}
