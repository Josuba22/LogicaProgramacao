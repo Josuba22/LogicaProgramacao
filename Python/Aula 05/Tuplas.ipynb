{
 "cells": [
  {
   "cell_type": "code",
   "execution_count": null,
   "metadata": {},
   "outputs": [],
   "source": [
    "# Início Tuplas\n",
    "    # Ordenável, não mutável e indexável\n",
    "\n",
    "umaTupla = (\"maça\", \"banana\", \"cereja\")\n",
    "print(umaTupla)"
   ]
  },
  {
   "cell_type": "code",
   "execution_count": null,
   "metadata": {},
   "outputs": [],
   "source": [
    "# Tupla aceita valores duplicados\n",
    "\n",
    "umaTupla = (\"maça\", \"banana\", \"cereja\", \"banana\")\n",
    "print(umaTupla)"
   ]
  },
  {
   "cell_type": "code",
   "execution_count": null,
   "metadata": {},
   "outputs": [],
   "source": [
    "# Comprimentod e uma Tupla\n",
    "\n",
    "umaTupla = (\"maça\", \"banana\", \"cereja\")\n",
    "print(len(umaTupla))"
   ]
  },
  {
   "cell_type": "code",
   "execution_count": null,
   "metadata": {},
   "outputs": [],
   "source": [
    "# Criar tupla com um item\n",
    "\n",
    "umaTupla = (\"maça\",)\n",
    "print(type(umaTupla))\n",
    "\n",
    "#Isto não é uma tupla\n",
    "umaTupla = (\"maça\")\n",
    "print(type(umaTupla))"
   ]
  },
  {
   "cell_type": "code",
   "execution_count": null,
   "metadata": {},
   "outputs": [],
   "source": [
    "# Diferentes tipos de dados\n",
    "\n",
    "tupla1 = (\"maça\", \"banana\", \"cereja\")\n",
    "tupla2 = (1, 5, 7, 9, 3)\n",
    "tupla3 = (True, False, False)\n",
    "\n",
    "print(tupla1)\n",
    "print(tupla2)\n",
    "print(tupla3)"
   ]
  },
  {
   "cell_type": "code",
   "execution_count": null,
   "metadata": {},
   "outputs": [],
   "source": [
    "# Diferentes tipos de dados em uma mesma tupla\n",
    "\n",
    "tupla1 = (\"abc\", 34, True, 40, \"macho\")\n",
    "print(tupla1)"
   ]
  },
  {
   "cell_type": "code",
   "execution_count": null,
   "metadata": {},
   "outputs": [],
   "source": [
    "# Tipo de Conjunto de dados\n",
    "\n",
    "umaTupla = (\"maça\", \"banana\", \"cereja\")\n",
    "print(type(umaTupla))"
   ]
  },
  {
   "cell_type": "code",
   "execution_count": null,
   "metadata": {},
   "outputs": [],
   "source": [
    "# Construtor Tupla\n",
    "\n",
    "umaTupla = tuple((\"maça\", \"banana\", \"cereja\"))\n",
    "print(umaTupla)"
   ]
  },
  {
   "cell_type": "code",
   "execution_count": null,
   "metadata": {},
   "outputs": [],
   "source": [
    "# Acessar uma tupla\n",
    "\n",
    "umaTupla = (\"maça\", \"banana\", \"cereja\")\n",
    "print(umaTupla[1])"
   ]
  },
  {
   "cell_type": "code",
   "execution_count": null,
   "metadata": {},
   "outputs": [],
   "source": [
    "# Alterar uma Tupla\n",
    "\n",
    "x = (\"maça\", \"banana\", \"cereja\")\n",
    "y = list(x)\n",
    "y[1] = \"kiwi\"\n",
    "x = tuple(y)\n",
    "\n",
    "print(x)"
   ]
  },
  {
   "cell_type": "code",
   "execution_count": null,
   "metadata": {},
   "outputs": [],
   "source": [
    "# Adicionar itens a uma Tupla\n",
    "\n",
    "umaTupla = (\"maça\", \"banana\", \"cereja\")\n",
    "y = list(umaTupla)\n",
    "y.append(\"laranja\")\n",
    "umaTupla = tuple(y)\n",
    "\n",
    "print(umaTupla)"
   ]
  },
  {
   "cell_type": "code",
   "execution_count": null,
   "metadata": {},
   "outputs": [],
   "source": [
    "# Percorrendo uma Tupla\n",
    "\n",
    "umaTupla = (\"maça\", \"banana\", \"cereja\")\n",
    "for x in umaTupla:\n",
    "  print(x) "
   ]
  }
 ],
 "metadata": {
  "kernelspec": {
   "display_name": "Python 3",
   "language": "python",
   "name": "python3"
  },
  "language_info": {
   "codemirror_mode": {
    "name": "ipython",
    "version": 3
   },
   "file_extension": ".py",
   "mimetype": "text/x-python",
   "name": "python",
   "nbconvert_exporter": "python",
   "pygments_lexer": "ipython3",
   "version": "3.11.2"
  },
  "orig_nbformat": 4
 },
 "nbformat": 4,
 "nbformat_minor": 2
}
