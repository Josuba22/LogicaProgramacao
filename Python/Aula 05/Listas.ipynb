{
 "cells": [
  {
   "cell_type": "code",
   "execution_count": null,
   "metadata": {},
   "outputs": [],
   "source": [
    "# Lista\n",
    "\n",
    "lista = [1, 2, 3]\n",
    "lista_nomes = [\"ramon\", \"jose\", \"maria\"]\n",
    "\n",
    "# Como apresentar uma lista inteira\n",
    "print(lista_nomes)"
   ]
  },
  {
   "cell_type": "code",
   "execution_count": null,
   "metadata": {},
   "outputs": [],
   "source": [
    "\n",
    "# Como setar apenas um valor da lista usando o índice\n",
    "\n",
    "lista = [1, 2, 3]\n",
    "x = lista[1]\n",
    "print(x)\n",
    "\n",
    "print(lista[0]) # toda lista começa no índice 0\n",
    "print(lista[1])\n",
    "print(lista[2])\n"
   ]
  },
  {
   "cell_type": "code",
   "execution_count": null,
   "metadata": {},
   "outputs": [],
   "source": [
    "\n",
    "# For em uma lista\n",
    "\n",
    "lista_nomes = [\"ramon\", \"jose\", \"maria\"]\n",
    "\n",
    "for nome in lista_nomes:\n",
    "  print(nome)\n"
   ]
  },
  {
   "cell_type": "code",
   "execution_count": null,
   "metadata": {},
   "outputs": [],
   "source": [
    "# Como alterar um valor da lista\n",
    "\n",
    "lista_nomes = [\"artur\", \"jose\", \"maria\"]\n",
    "print(lista_nomes)\n",
    "\n",
    "lista_nomes[2] = \"josefa\"\n",
    "print(lista_nomes)"
   ]
  },
  {
   "cell_type": "code",
   "execution_count": null,
   "metadata": {},
   "outputs": [],
   "source": [
    "\n",
    "# Saber o tamanho da lista\n",
    "\n",
    "lista_nomes = [\"artur\", \"jose\", \"maria\", \"lucas\"]\n",
    "print(len(lista_nomes))\n"
   ]
  },
  {
   "cell_type": "code",
   "execution_count": null,
   "metadata": {},
   "outputs": [],
   "source": [
    "\n",
    "# Como adicionar elementos na lista\n",
    "\n",
    "lista_nomes = [\"artur\", \"jose\", \"maria\"]\n",
    "print(lista_nomes)\n",
    "\n",
    "lista_nomes.append(\"Ramon\")\n",
    "print(lista_nomes)\n"
   ]
  },
  {
   "cell_type": "code",
   "execution_count": null,
   "metadata": {},
   "outputs": [],
   "source": [
    "\n",
    "# Como remover um elemento da lista\n",
    "\n",
    "lista_nomes = [\"artur\", \"jose\", \"alysson\"]\n",
    "print(lista_nomes)\n",
    "\n",
    "del lista_nomes[2]\n",
    "print(lista_nomes)\n"
   ]
  },
  {
   "cell_type": "code",
   "execution_count": null,
   "metadata": {},
   "outputs": [],
   "source": [
    "# Matriz (lista dentro de uma lista)\n",
    "matriz = [[1, 2, 3],\n",
    "          [4, 5, 6],\n",
    "          [7, 8, 9]]\n",
    "\n",
    "#matriz = [1, 2, 3]     [4, 5, 6]      [7, 8, 9]\n",
    "\n",
    "print(matriz)\n",
    "# Imprimindo a linha 0 = [1, 2, 3]\n",
    "print(matriz[0])\n",
    "\n",
    "# Imprimindo o valor 1 = \"2\" da linha 0 = [1, 2, 3]\n",
    "#print(matriz[1][0])"
   ]
  },
  {
   "cell_type": "code",
   "execution_count": null,
   "metadata": {},
   "outputs": [],
   "source": [
    "# Exemplo de listas\n",
    "carrinho_de_compras = []\n",
    "\n",
    "# [nome do produto, quantidade, valor unitário]\n",
    "produto1 = [\"Maçã\", 2, 5.5]\n",
    "carrinho_de_compras.append(produto1) # Adicionando o produto 1 no carrinho\n",
    "\n",
    "produto2 = [\"Coca-cola\", 1, 7.5]\n",
    "carrinho_de_compras.append(produto2) # Adicionando o produto 2 no carrinho\n",
    "\n",
    "produto3 = [\"Biscoito\", 3, 3.5]\n",
    "carrinho_de_compras.append(produto3) # Adicionando o produto 3 no carrinho\n",
    "\n",
    "print(f\"Seu carrinho de compras é: {carrinho_de_compras}\")"
   ]
  }
 ],
 "metadata": {
  "kernelspec": {
   "display_name": "Python 3",
   "language": "python",
   "name": "python3"
  },
  "language_info": {
   "codemirror_mode": {
    "name": "ipython",
    "version": 3
   },
   "file_extension": ".py",
   "mimetype": "text/x-python",
   "name": "python",
   "nbconvert_exporter": "python",
   "pygments_lexer": "ipython3",
   "version": "3.11.2"
  },
  "orig_nbformat": 4
 },
 "nbformat": 4,
 "nbformat_minor": 2
}
