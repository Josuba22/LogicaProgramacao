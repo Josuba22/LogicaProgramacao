{
 "cells": [
  {
   "cell_type": "code",
   "execution_count": null,
   "metadata": {},
   "outputs": [],
   "source": [
    "#Q.05\n",
    "\n",
    "cotacaoDolar = 4.90  # Valor da cotação do dólar\n",
    "\n",
    "valorReais = float(input(\"Digite o valor em reais: \"))\n",
    "\n",
    "valorDolar = valorReais / cotacaoDolar\n",
    "\n",
    "print(f\"O valor convertido para dólar americano é: US$ {valorDolar:.2f}\")"
   ]
  },
  {
   "cell_type": "code",
   "execution_count": null,
   "metadata": {},
   "outputs": [],
   "source": [
    "#Q.04\n",
    "\n",
    "numero = 4\n",
    "contador = 1\n",
    "\n",
    "while contador <= 10:\n",
    "    resultado = numero * contador\n",
    "    print(f\"{numero} x {contador} = {resultado}\")\n",
    "    contador += 1"
   ]
  },
  {
   "cell_type": "code",
   "execution_count": 9,
   "metadata": {},
   "outputs": [
    {
     "name": "stdout",
     "output_type": "stream",
     "text": [
      "Antecessor: 4\n",
      "Sucessor: 6\n"
     ]
    }
   ],
   "source": [
    "#Q.01\n",
    "\n",
    "numero = int(input(\"Digite um número: \"))\n",
    "\n",
    "antecessor = numero - 1\n",
    "sucessor = numero + 1\n",
    "\n",
    "print(f\"Antecessor: {antecessor}\")\n",
    "print(f\"Sucessor: {sucessor}\")"
   ]
  },
  {
   "cell_type": "code",
   "execution_count": 10,
   "metadata": {},
   "outputs": [
    {
     "name": "stdout",
     "output_type": "stream",
     "text": [
      "A média das notas é: 4.43\n"
     ]
    }
   ],
   "source": [
    "#Q.02\n",
    "\n",
    "nota1 = float(input(\"Digite a primeira nota: \"))\n",
    "nota2 = float(input(\"Digite a segunda nota: \"))\n",
    "nota3 = float(input(\"Digite a terceira nota: \"))\n",
    "\n",
    "media = (nota1 + nota2 + nota3) / 3\n",
    "\n",
    "print(f\"A média das notas é: {media:.2f}\")"
   ]
  }
 ],
 "metadata": {
  "kernelspec": {
   "display_name": "Python 3",
   "language": "python",
   "name": "python3"
  },
  "language_info": {
   "codemirror_mode": {
    "name": "ipython",
    "version": 3
   },
   "file_extension": ".py",
   "mimetype": "text/x-python",
   "name": "python",
   "nbconvert_exporter": "python",
   "pygments_lexer": "ipython3",
   "version": "3.11.0"
  }
 },
 "nbformat": 4,
 "nbformat_minor": 2
}
