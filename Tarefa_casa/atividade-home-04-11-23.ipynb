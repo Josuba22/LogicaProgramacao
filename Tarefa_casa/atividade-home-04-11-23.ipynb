{
 "cells": [
  {
   "cell_type": "code",
   "execution_count": 33,
   "metadata": {},
   "outputs": [
    {
     "name": "stdout",
     "output_type": "stream",
     "text": [
      "o valor do 1.12\n"
     ]
    }
   ],
   "source": [
    "#Q.04\n",
    "\n",
    "cotacaoDolar = 4.90\n",
    "\n",
    "valorReais = float(input(\"Digite o valor em reais: \"))\n",
    "\n",
    "valorDolar = valorReais / cotacaoDolar\n",
    "\n",
    "print(f\"O valor convertido para dólar americano é: US$ {valorDolar:.2f}\")\n",
    "\n",
    "#versão professor (simplificado):\n",
    "\n",
    "vReal = float(input(\"Digite o valor em Real\"))\n",
    "print(f\"o valor do {vReal/4.9:.2f}\")\n"
   ]
  },
  {
   "cell_type": "code",
   "execution_count": null,
   "metadata": {},
   "outputs": [],
   "source": [
    "#Q.03\n",
    "\n",
    "numero = 4\n",
    "contador = 0\n",
    "\n",
    "while contador <= 10:\n",
    "    resultado = numero * contador\n",
    "    print(f\"{numero} x {contador} = {resultado}\")\n",
    "    contador += 1\n",
    "\n",
    "#Versão do professor (simplificado):\n",
    "\n",
    "contador = 0\n",
    "\n",
    "while contador <= 10:\n",
    "    print(f\"4 x {contador} = {4*contador}\")\n",
    "    contador += 1"
   ]
  },
  {
   "cell_type": "code",
   "execution_count": null,
   "metadata": {},
   "outputs": [],
   "source": [
    "#Q.01\n",
    "\n",
    "numero = int(input(\"Digite um número: \"))\n",
    "\n",
    "antecessor = numero - 1\n",
    "sucessor = numero + 1\n",
    "\n",
    "print(f\"Para o número {numero}: antecessor é: {antecessor} e o sucessor é: {sucessor}\")\n",
    "\n",
    "#Outra versão:\n",
    "\n",
    "numero = int(input(\"Digite um número: \"))\n",
    "\n",
    "print(f\"Para o número {numero}: antecessor é {numero - 1} e o sucessor é {numero + 1}\")"
   ]
  },
  {
   "cell_type": "code",
   "execution_count": null,
   "metadata": {},
   "outputs": [],
   "source": [
    "#Q.02\n",
    "\n",
    "nota1 = float(input(\"Digite a primeira nota: \"))\n",
    "nota2 = float(input(\"Digite a segunda nota: \"))\n",
    "nota3 = float(input(\"Digite a terceira nota: \"))\n",
    "\n",
    "media = (nota1 + nota2 + nota3) / 3\n",
    "\n",
    "print(f\"A média das notas é: {media:.2f}\")\n",
    "\n",
    "#Outra versão:\n",
    "\n",
    "cont = 1\n",
    "media = 0\n",
    "\n",
    "while cont <= 3:\n",
    "    nota = float(input(f\"Digite sua nota {cont}\"))\n",
    "    media = media + nota\n",
    "    cont += 1\n",
    "print(\"A sua média final é: \", int(media / 3))\n",
    "print(\"A sua média final é: \", (media//3))\n"
   ]
  }
 ],
 "metadata": {
  "kernelspec": {
   "display_name": "Python 3",
   "language": "python",
   "name": "python3"
  },
  "language_info": {
   "codemirror_mode": {
    "name": "ipython",
    "version": 3
   },
   "file_extension": ".py",
   "mimetype": "text/x-python",
   "name": "python",
   "nbconvert_exporter": "python",
   "pygments_lexer": "ipython3",
   "version": "3.12.0"
  }
 },
 "nbformat": 4,
 "nbformat_minor": 2
}
