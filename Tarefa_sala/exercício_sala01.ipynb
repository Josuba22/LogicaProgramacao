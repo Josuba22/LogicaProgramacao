{
 "cells": [
  {
   "cell_type": "code",
   "execution_count": 1,
   "metadata": {},
   "outputs": [
    {
     "name": "stdout",
     "output_type": "stream",
     "text": [
      "A área do triangulo é: 12.0\n"
     ]
    }
   ],
   "source": [
    "base = 3\n",
    "altura = 8\n",
    "print(f\"A área do triangulo é: {(base*altura)/2}\")"
   ]
  },
  {
   "cell_type": "code",
   "execution_count": 7,
   "metadata": {},
   "outputs": [
    {
     "name": "stdout",
     "output_type": "stream",
     "text": [
      "O valor da compra de 4 de camisas com o desconto é: 72\n"
     ]
    }
   ],
   "source": [
    "quantidade = 4 \n",
    "preco = 20\n",
    "desconto = int((preco * quantidade) * 0.1)\n",
    "print(f\"O valor da compra de {quantidade} de camisas com o desconto é: {(quantidade*preco) - desconto}\")"
   ]
  }
 ],
 "metadata": {
  "kernelspec": {
   "display_name": "Python 3",
   "language": "python",
   "name": "python3"
  },
  "language_info": {
   "codemirror_mode": {
    "name": "ipython",
    "version": 3
   },
   "file_extension": ".py",
   "mimetype": "text/x-python",
   "name": "python",
   "nbconvert_exporter": "python",
   "pygments_lexer": "ipython3",
   "version": "3.12.0"
  }
 },
 "nbformat": 4,
 "nbformat_minor": 2
}
