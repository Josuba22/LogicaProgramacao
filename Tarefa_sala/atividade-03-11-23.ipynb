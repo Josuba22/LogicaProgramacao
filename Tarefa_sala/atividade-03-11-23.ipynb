{
 "cells": [
  {
   "cell_type": "code",
   "execution_count": null,
   "metadata": {},
   "outputs": [],
   "source": [
    "#Q.01 Peça ao usuário p/ inserir 5 números e se esse número for par ele será somado a uma variável chamada \"total\",\n",
    "# e por fim mostre o valor total da somátoria. (Dica: Usar o while e o if)\n",
    "\n",
    "total = 0\n",
    "cont = 1\n",
    "\n",
    "while cont <= 5:\n",
    "    cont = cont + 1\n",
    "    n = int(input(\"Digite um número\"))\n",
    "    #print(n) #só para debugar o cód e verificar o que está sendo digitado\n",
    "    if n % 2 == 0:\n",
    "        total = total + n\n",
    "#print(\"O valor total da soma dos nº pares é: \", total)\n",
    "print(f\"O valor total da soma dos nº pares é: {total}\")"
   ]
  },
  {
   "cell_type": "code",
   "execution_count": null,
   "metadata": {},
   "outputs": [],
   "source": [
    "#Q.02 Peça ao usuário para inserir 5 números e mostre no final quem é o maior. (Dica: Use \"If\" para verificar se é\n",
    "# maior e armazenar em uma variável global)\n",
    "cont = 1\n",
    "maior = 0\n",
    "\n",
    "while cont <= 5:\n",
    "    cont += 1\n",
    "    n = int(input(\"Digite um valor\"))\n",
    "    if n > maior:\n",
    "        maior = n\n",
    "\n",
    "print(f\"O maior valor digitado é {maior}\")"
   ]
  },
  {
   "cell_type": "code",
   "execution_count": null,
   "metadata": {},
   "outputs": [],
   "source": [
    "#Q.03 Faça um programa que percorra de 1 a 10 e que ele imprima somente os números ímpares. (Dica: Use \"while\"\n",
    "# para pecorrer e \"if\" para imprimir)\n",
    "cont = 0\n",
    "while cont < 10:\n",
    "    cont = cont + 1\n",
    "    if cont % 2 != 0:\n",
    "        print(cont)\n",
    "\n",
    "#Outra opção:\n",
    "cont = 1\n",
    "while cont < 10:\n",
    "    if cont % 2 != 0:\n",
    "        print(cont)\n",
    "    cont = cont + 1"
   ]
  },
  {
   "cell_type": "code",
   "execution_count": 34,
   "metadata": {},
   "outputs": [
    {
     "name": "stdout",
     "output_type": "stream",
     "text": [
      "1\n",
      "2\n",
      "3\n",
      "4\n",
      "5\n"
     ]
    }
   ],
   "source": [
    "#Q.04 Faça um programa que peça ao usuário para informar até qual número deve ser feito uma contagem, \n",
    "# imprimindo os números de 1 até o número informado pelo usuário. Ex: Se o usuário digitou 5, \n",
    "# o programa vai imprimir: 1, 2, 3, 4, 5.(DICA: Use o While)\n",
    "\n",
    "cont = 0\n",
    "n = int(input(\"Digite um valor\"))\n",
    "\n",
    "while cont < n:\n",
    "    cont = cont + 1\n",
    "    print(cont)"
   ]
  }
 ],
 "metadata": {
  "kernelspec": {
   "display_name": "Python 3",
   "language": "python",
   "name": "python3"
  },
  "language_info": {
   "codemirror_mode": {
    "name": "ipython",
    "version": 3
   },
   "file_extension": ".py",
   "mimetype": "text/x-python",
   "name": "python",
   "nbconvert_exporter": "python",
   "pygments_lexer": "ipython3",
   "version": "3.12.0"
  }
 },
 "nbformat": 4,
 "nbformat_minor": 2
}
