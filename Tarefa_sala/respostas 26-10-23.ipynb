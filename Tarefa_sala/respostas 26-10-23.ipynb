{
 "cells": [
  {
   "cell_type": "code",
   "execution_count": 1,
   "metadata": {},
   "outputs": [
    {
     "name": "stdout",
     "output_type": "stream",
     "text": [
      "8\n"
     ]
    }
   ],
   "source": [
    "print(3 + 5)"
   ]
  },
  {
   "cell_type": "code",
   "execution_count": 2,
   "metadata": {},
   "outputs": [
    {
     "name": "stdout",
     "output_type": "stream",
     "text": [
      "Olá mundo!\n"
     ]
    }
   ],
   "source": [
    "print(\"Olá mundo!\")"
   ]
  },
  {
   "cell_type": "code",
   "execution_count": 3,
   "metadata": {},
   "outputs": [
    {
     "name": "stdout",
     "output_type": "stream",
     "text": [
      "30\n"
     ]
    }
   ],
   "source": [
    "#Questão 03\n",
    "idade = 30\n",
    "print(idade)"
   ]
  },
  {
   "cell_type": "code",
   "execution_count": 8,
   "metadata": {},
   "outputs": [
    {
     "name": "stdout",
     "output_type": "stream",
     "text": [
      "5\n"
     ]
    }
   ],
   "source": [
    "#Questão 04\n",
    "n = int(input(\"Insira um número:\"))\n",
    "print(n)"
   ]
  },
  {
   "cell_type": "code",
   "execution_count": 14,
   "metadata": {},
   "outputs": [
    {
     "name": "stdout",
     "output_type": "stream",
     "text": [
      "Olá, Alice!\n"
     ]
    }
   ],
   "source": [
    "#Questão 05\n",
    "nome = \"Alice\"\n",
    "print(f\"Olá, {nome}!\")"
   ]
  },
  {
   "cell_type": "code",
   "execution_count": 15,
   "metadata": {},
   "outputs": [
    {
     "name": "stdout",
     "output_type": "stream",
     "text": [
      "True\n"
     ]
    }
   ],
   "source": [
    "#Questão 06\n",
    "print(7 > 3)"
   ]
  },
  {
   "cell_type": "code",
   "execution_count": 32,
   "metadata": {},
   "outputs": [
    {
     "name": "stdout",
     "output_type": "stream",
     "text": [
      "Vc é menor de idade!\n"
     ]
    }
   ],
   "source": [
    "#Questão 07\n",
    "idade = int(input(\"Insira sua idade:\"))\n",
    "if idade >= 18:\n",
    "    print(\"Vc é maior de idade!\")\n",
    "else:\n",
    "    print(\"Vc é menor de idade\")"
   ]
  },
  {
   "cell_type": "code",
   "execution_count": 35,
   "metadata": {},
   "outputs": [
    {
     "name": "stdout",
     "output_type": "stream",
     "text": [
      "O número é negativo!\n"
     ]
    }
   ],
   "source": [
    "#Questão 08\n",
    "n = int(input(\"Insira um número:\"))\n",
    "if n >= 0:\n",
    "    print(\"O número é positivo!\")\n",
    "else:\n",
    "    print(\"O número é negativo!\")"
   ]
  },
  {
   "cell_type": "code",
   "execution_count": 18,
   "metadata": {},
   "outputs": [
    {
     "name": "stdout",
     "output_type": "stream",
     "text": [
      "Parabéns, vc está Aprovado!\n"
     ]
    }
   ],
   "source": [
    "#Questão 09\n",
    "#dica: a tratativa de numero deve ocorrer primeiro com os números maiores,\n",
    "#depois com números menores\n",
    "nota = int(input(\"Insira sua nota aqui:\"))\n",
    "if nota > 10:\n",
    "    print(\"Valor inválido! informe um nº entre 0 e 10\")\n",
    "elif nota >= 6:\n",
    "    print(\"Parabéns, vc está Aprovado!\")\n",
    "else:\n",
    "    print(\"Vc está Reprovado! Estude mais um pouco\")"
   ]
  },
  {
   "cell_type": "code",
   "execution_count": null,
   "metadata": {},
   "outputs": [],
   "source": []
  },
  {
   "cell_type": "code",
   "execution_count": 23,
   "metadata": {},
   "outputs": [
    {
     "name": "stdout",
     "output_type": "stream",
     "text": [
      "Maior de Idade!\n"
     ]
    }
   ],
   "source": [
    "#Questão 10\n",
    "idade = 25\n",
    "if idade >= 18:\n",
    "    print(\"Maior de Idade!\")\n",
    "else:\n",
    "    print(\"Menor de idade!\")"
   ]
  }
 ],
 "metadata": {
  "kernelspec": {
   "display_name": "Python 3",
   "language": "python",
   "name": "python3"
  },
  "language_info": {
   "codemirror_mode": {
    "name": "ipython",
    "version": 3
   },
   "file_extension": ".py",
   "mimetype": "text/x-python",
   "name": "python",
   "nbconvert_exporter": "python",
   "pygments_lexer": "ipython3",
   "version": "3.12.0"
  }
 },
 "nbformat": 4,
 "nbformat_minor": 2
}
