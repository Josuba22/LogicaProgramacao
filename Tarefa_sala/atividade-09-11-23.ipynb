{
 "cells": [
  {
   "cell_type": "code",
   "execution_count": 3,
   "metadata": {},
   "outputs": [
    {
     "name": "stdout",
     "output_type": "stream",
     "text": [
      "{'aluno': 'Sarah', 'serie/ano': 1}\n",
      "{'aluno': 'Sarah', 'serie/ano': 1, 'instituição': 'Senai'}\n"
     ]
    }
   ],
   "source": [
    "#Faça um programa que tenha um dicionário com 2 itens, depois crie um comando para adicionar um novo item mostrando o que foi adicionado.\n",
    "\n",
    "dicio = {\n",
    "    \"aluno\": \"Sarah\",\n",
    "    \"serie/ano\": 1\n",
    "}\n",
    "print(dicio)\n",
    "dicio[\"instituição\"] = \"Senai\"\n",
    "print(dicio)"
   ]
  },
  {
   "cell_type": "code",
   "execution_count": 6,
   "metadata": {},
   "outputs": [
    {
     "name": "stdout",
     "output_type": "stream",
     "text": [
      "{'aluno': 'Roberto', 'serie/ano': 2, 'escola': 'Senai'}\n",
      "{'aluno': 'Roberto', 'serie/ano': 2}\n"
     ]
    }
   ],
   "source": [
    "#Faça um programa que tenha um dicionário com 3 itens depois crie um comando para remover um desses itens e por fim mostre o antes e o depois.\n",
    "\n",
    "dicio = {\n",
    "    \"aluno\": \"Roberto\",\n",
    "    \"serie/ano\": 2,\n",
    "    \"escola\": \"Senai\"\n",
    "}\n",
    "\n",
    "print(dicio)\n",
    "dicio.pop(\"escola\")\n",
    "print(dicio)"
   ]
  }
 ],
 "metadata": {
  "kernelspec": {
   "display_name": "Python 3",
   "language": "python",
   "name": "python3"
  },
  "language_info": {
   "codemirror_mode": {
    "name": "ipython",
    "version": 3
   },
   "file_extension": ".py",
   "mimetype": "text/x-python",
   "name": "python",
   "nbconvert_exporter": "python",
   "pygments_lexer": "ipython3",
   "version": "3.12.0"
  }
 },
 "nbformat": 4,
 "nbformat_minor": 2
}
