{
 "cells": [
  {
   "cell_type": "code",
   "execution_count": null,
   "metadata": {},
   "outputs": [],
   "source": [
    "marca = \"volkswagen\"\n",
    "modelo = \"polo\"\n",
    "\n",
    "if marca == \"toyota\":\n",
    "  if modelo==\"corolla\":\n",
    "    print(\"R$ 154.990,00\")\n",
    "  elif modelo==\"hilux\":\n",
    "    print(\"R$ 273.090,00\")\n",
    "  else:\n",
    "    print(\"Modelo não encontrado\")\n",
    "elif marca == \"honda\":\n",
    "  if modelo==\"civic\":\n",
    "    print(\"R$ 244.900,00\")\n",
    "  elif modelo==\"hrv\":\n",
    "    print(\"R$ 194.800,00\")\n",
    "  else:\n",
    "    print(\"Modelo não encontrado\")\n",
    "elif marca == \"volkswagen\":\n",
    "  if modelo==\"gol\":\n",
    "    print(\"R$ 75.490,00\")\n",
    "  elif modelo==\"polo\":\n",
    "    print(\"R$ 95.990,00\")\n",
    "  else:\n",
    "    print(\"Modelo não encontrado\")\n",
    "elif marca == \"fiat\":\n",
    "  if modelo==\"argo\":\n",
    "    print(\"R$ 79.790,00\")\n",
    "  elif modelo==\"hilux\":\n",
    "    print(\"R$ 99.990,00\")\n",
    "  else:\n",
    "    print(\"Modelo não encontrado\")\n",
    "else:\n",
    "  print(\"Não existe esta marca\")"
   ]
  },
  {
   "cell_type": "code",
   "execution_count": 1,
   "metadata": {},
   "outputs": [
    {
     "name": "stdout",
     "output_type": "stream",
     "text": [
      "1\n",
      "3\n",
      "5\n",
      "7\n",
      "9\n"
     ]
    }
   ],
   "source": [
    "# Estrutura Repetição WHILE\n",
    "\n",
    "x = 1\n",
    "\n",
    "while x <= 10:\n",
    "  print(x)\n",
    "  x = x + 1     #   x = x + 1 'ou' x += 1\n",
    "  x += 1"
   ]
  },
  {
   "cell_type": "code",
   "execution_count": 3,
   "metadata": {},
   "outputs": [
    {
     "name": "stdout",
     "output_type": "stream",
     "text": [
      "O somatório total dos valores é de: 55\n"
     ]
    }
   ],
   "source": [
    "# Acumulador de valores\n",
    "\n",
    "somatorio = 0\n",
    "contador = 1\n",
    "\n",
    "while contador <= 10:\n",
    "  valor = int(input(\"Digite um valor\"))\n",
    "  somatorio = somatorio + valor\n",
    "  contador = contador + 1\n",
    "\n",
    "print(f\"O somatório total dos valores é de: {somatorio}\")"
   ]
  },
  {
   "cell_type": "code",
   "execution_count": null,
   "metadata": {},
   "outputs": [],
   "source": [
    "# Interrupção da execução do WHILE\n",
    "\n",
    "somatorio = 0\n",
    "contador = 1\n",
    "\n",
    "while contador <= 10:\n",
    "  valor = int(input(\"Digite um valor\"))\n",
    "  if valor == 0:\n",
    "    break\n",
    "  somatorio = somatorio + valor\n",
    "  contador = contador + 1\n",
    "\n",
    "print(f\"O somatório total dos valores é de: {somatorio}\")"
   ]
  }
 ],
 "metadata": {
  "kernelspec": {
   "display_name": "Python 3",
   "language": "python",
   "name": "python3"
  },
  "language_info": {
   "codemirror_mode": {
    "name": "ipython",
    "version": 3
   },
   "file_extension": ".py",
   "mimetype": "text/x-python",
   "name": "python",
   "nbconvert_exporter": "python",
   "pygments_lexer": "ipython3",
   "version": "3.12.0"
  }
 },
 "nbformat": 4,
 "nbformat_minor": 2
}
