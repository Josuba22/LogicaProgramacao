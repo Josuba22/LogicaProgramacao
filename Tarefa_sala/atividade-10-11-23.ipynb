{
 "cells": [
  {
   "cell_type": "code",
   "execution_count": 152,
   "metadata": {},
   "outputs": [
    {
     "name": "stdout",
     "output_type": "stream",
     "text": [
      "a soma é 7 e a multiplicação é 10\n",
      "A soma entre 2 e 5 é: 7\n",
      "A multiplicação entre 2 e 5 é: 10\n"
     ]
    }
   ],
   "source": [
    "#Q.01 - Crie duas variáveis, a e b, e atribua a elas valores numéricos diferentes. \n",
    "#Em seguida, imprima a soma e o multiplicação desses números.\n",
    "\n",
    "a = 2\n",
    "b = 5\n",
    "\n",
    "print(f\"a soma é {a + b} e a multiplicação é {a*b}\")\n",
    "\n",
    "#resolução\n",
    "\n",
    "a = 2\n",
    "b = 5\n",
    "\n",
    "print(f\"A soma entre {a} e {b} é: {a+b}\")\n",
    "print(f\"A multiplicação entre {a} e {b} é: {a*b}\")"
   ]
  },
  {
   "cell_type": "code",
   "execution_count": 153,
   "metadata": {},
   "outputs": [
    {
     "name": "stdout",
     "output_type": "stream",
     "text": [
      "green\n",
      "red\n",
      "pink\n",
      "white\n",
      "yellow\n"
     ]
    }
   ],
   "source": [
    "#Q.02 - Crie uma lista com cinco cores diferentes. Use um loop for para imprimir cada cor.\n",
    "\n",
    "cores = [\"green\", \"red\", \"pink\", \"white\", \"yellow\"]\n",
    "\n",
    "for i in cores:\n",
    "    print(i)"
   ]
  },
  {
   "cell_type": "code",
   "execution_count": 155,
   "metadata": {},
   "outputs": [
    {
     "name": "stdout",
     "output_type": "stream",
     "text": [
      "Brasília\n"
     ]
    }
   ],
   "source": [
    "#Q.03 - Crie um dicionário com nomes de países, a chave deve conter o nome do país e o valor a sua capital. \n",
    "#Imprima a capital do Brasil.\n",
    "\n",
    "paises = {\n",
    "    \"Brasil\": \"Brasília\",\n",
    "    \"Portugal\": \"Lisboa\",\n",
    "    \"Canadá\": \"Ottawa\",\n",
    "    \"Irlanda\": \"Dublin\"\n",
    "}\n",
    "\n",
    "print(paises[\"Brasil\"])"
   ]
  },
  {
   "cell_type": "code",
   "execution_count": 156,
   "metadata": {},
   "outputs": [
    {
     "name": "stdout",
     "output_type": "stream",
     "text": [
      "Maior de idade\n"
     ]
    }
   ],
   "source": [
    "#Q.04 - Crie uma variável idade e atribua um valor numérico. Use uma instrução if \n",
    "#para verificar se a pessoa é maior de 18 anos e imprima uma mensagem apropriada.\n",
    "\n",
    "idade = 19\n",
    "\n",
    "if idade >= 18:\n",
    "    print(\"Maior de idade\")\n",
    "elif idade <= 0:\n",
    "    print(\"Idade não existe\")\n",
    "else:\n",
    "    print(\"Menor de idade\")"
   ]
  },
  {
   "cell_type": "code",
   "execution_count": 157,
   "metadata": {},
   "outputs": [
    {
     "name": "stdout",
     "output_type": "stream",
     "text": [
      "Boa madrugada\n",
      "Boa tarde\n"
     ]
    }
   ],
   "source": [
    "#Q.05 - Crie uma variável hora e atribua um valor numérico representando a hora do \n",
    "#dia (24 horas). Use if, elif e else para imprimir mensagens diferentes dependendo \n",
    "#do período do dia.\n",
    "#•\tBoa Madrugada = Entre 00 e 05\n",
    "#•\tBom dia = Entre 06 e 11\n",
    "#•\tBoa tarde = Entre 12 e 17\n",
    "#•\tBoa noite = Entre 18 e 23\n",
    "\n",
    "\n",
    "horas = 5\n",
    "\n",
    "if horas >= 24:\n",
    "    print(\"Hora ñ existe\")\n",
    "elif horas < 0:\n",
    "    print(\"Hora ñ existe\")\n",
    "elif horas <= 5:\n",
    "    print(\"Boa madrugada\")\n",
    "elif horas <= 11:\n",
    "    print(\"Bom dia\")\n",
    "elif horas <= 17:\n",
    "    print(\"Boa tarde\")\n",
    "elif horas <= 23:\n",
    "    print(\"Boa noite\")\n",
    "else:\n",
    "    print(\"hora ñ existe\")\n",
    "\n",
    "#resolução\n",
    "\n",
    "hora = 13\n",
    "\n",
    "if hora >= 0 and hora <= 5:\n",
    "    print(\"Boa madrugada\")\n",
    "elif hora >= 6  and hora <= 11:\n",
    "    print(\"Bom dia\")\n",
    "elif hora >= 12 and hora <= 17:\n",
    "    print(\"Boa tarde\")\n",
    "elif hora >= 18 and hora <= 23:\n",
    "    print(\"Boa noite\")\n",
    "else:\n",
    "    print(\"hora invalida\")"
   ]
  },
  {
   "cell_type": "code",
   "execution_count": null,
   "metadata": {},
   "outputs": [],
   "source": [
    "#Q.06\n",
    "x = 1\n",
    "\n",
    "while x <= 5:\n",
    "    print(x)\n",
    "    x += 1"
   ]
  },
  {
   "cell_type": "code",
   "execution_count": 158,
   "metadata": {},
   "outputs": [
    {
     "name": "stdout",
     "output_type": "stream",
     "text": [
      "2\n",
      "4\n",
      "10\n",
      "20\n"
     ]
    }
   ],
   "source": [
    "#Q.07 - Crie uma lista de números. Use um loop for para imprimir apenas os números pares.\n",
    "lista = [2, 4, 10, 7, 9, 11, 151, 20]\n",
    "\n",
    "for x in lista:\n",
    "    if x % 2 == 0:\n",
    "        print(x)"
   ]
  },
  {
   "cell_type": "code",
   "execution_count": 162,
   "metadata": {},
   "outputs": [
    {
     "name": "stdout",
     "output_type": "stream",
     "text": [
      "o 1º item da lista é banana e o ultimo é laranja\n"
     ]
    }
   ],
   "source": [
    "#Q.08 - Crie uma lista de frutas. Imprima o primeiro e o último item da lista.\n",
    "\n",
    "frutas = [\"banana\", \"maçã\", \"uva\", \"laranja\"]\n",
    "\n",
    "print(f\"o 1º item da lista é {frutas[0]} e o ultimo é {frutas[len(frutas)-1]}\")"
   ]
  },
  {
   "cell_type": "code",
   "execution_count": 163,
   "metadata": {},
   "outputs": [
    {
     "name": "stdout",
     "output_type": "stream",
     "text": [
      "1\n",
      "2\n",
      "3\n",
      "4\n",
      "5\n",
      "6\n",
      "7\n",
      "8\n",
      "9\n",
      "10\n"
     ]
    }
   ],
   "source": [
    "#Q.09 - Use um loop for e a função range para imprimir os números de 1 a 10.\n",
    "\n",
    "for n in range(1, 11):\n",
    "    print(n)"
   ]
  },
  {
   "cell_type": "code",
   "execution_count": 171,
   "metadata": {},
   "outputs": [
    {
     "name": "stdout",
     "output_type": "stream",
     "text": [
      "cat\n",
      "cat\n"
     ]
    }
   ],
   "source": [
    "#Q.10 - Crie uma lista de animais e use uma instrução if para verificar se 'gato' está na lista. \n",
    "#Imprima uma mensagem apropriada\n",
    "\n",
    "animals = [\"cat\", \"dog\", \"rabbit\", \"bird\"]\n",
    "\n",
    "for i in animals:\n",
    "    if i == \"cat\":\n",
    "        print(i)\n",
    "\n",
    "#resolução\n",
    "\n",
    "animals = [\"cat\", \"dog\", \"rabbit\", \"bird\"]\n",
    "\n",
    "if \"cat\" in animals:\n",
    "    print(\"cat\")"
   ]
  },
  {
   "cell_type": "code",
   "execution_count": 169,
   "metadata": {},
   "outputs": [
    {
     "name": "stdout",
     "output_type": "stream",
     "text": [
      "0\n",
      "1\n",
      "2\n",
      "3\n",
      "4\n"
     ]
    }
   ],
   "source": [
    "#Q.11 - Utilize um loop while para imprimir os números de 1 a 10, mas interrompa o loop se encontrar o número 5.\n",
    "\n",
    "\n",
    "cont = 0\n",
    "\n",
    "while cont <= 10:\n",
    "    print(cont)\n",
    "    cont += 1\n",
    "    if cont == 5:\n",
    "        break"
   ]
  },
  {
   "cell_type": "code",
   "execution_count": 170,
   "metadata": {},
   "outputs": [
    {
     "name": "stdout",
     "output_type": "stream",
     "text": [
      "impar\n"
     ]
    }
   ],
   "source": [
    "#Q.12\n",
    "\n",
    "n = 7\n",
    "\n",
    "if n % 2 == 0:\n",
    "    print(\"par\")\n",
    "else:\n",
    "    print(\"impar\")"
   ]
  },
  {
   "cell_type": "code",
   "execution_count": 172,
   "metadata": {},
   "outputs": [
    {
     "name": "stdout",
     "output_type": "stream",
     "text": [
      "Hoje é seg, vou limpar a casa\n",
      "Hoje é ter, vou lavar louça\n",
      "Hoje é qua, vou passar pano\n",
      "Hoje é qui, vou lavar a roupa\n",
      "Hoje é sex, vou passar a roupa\n",
      "Hoje é sab, vou tirar o lixo\n",
      "Hoje é dom, vou fazer churrasco\n"
     ]
    }
   ],
   "source": [
    "#Q.13\n",
    "\n",
    "dias = [\"seg\", \"ter\", \"qua\", \"qui\", \"sex\", \"sab\", \"dom\"]\n",
    "tarefas = [\"limpar a casa\", \"lavar louça\", \"passar pano\", \"lavar a roupa\", \"passar a roupa\", \"tirar o lixo\", \"fazer churrasco\"]\n",
    "\n",
    "for x in range(len(dias)):\n",
    "    print(f\"Hoje é {dias[x]}, vou {tarefas[x]}\")"
   ]
  }
 ],
 "metadata": {
  "kernelspec": {
   "display_name": "Python 3",
   "language": "python",
   "name": "python3"
  },
  "language_info": {
   "codemirror_mode": {
    "name": "ipython",
    "version": 3
   },
   "file_extension": ".py",
   "mimetype": "text/x-python",
   "name": "python",
   "nbconvert_exporter": "python",
   "pygments_lexer": "ipython3",
   "version": "3.12.0"
  }
 },
 "nbformat": 4,
 "nbformat_minor": 2
}
