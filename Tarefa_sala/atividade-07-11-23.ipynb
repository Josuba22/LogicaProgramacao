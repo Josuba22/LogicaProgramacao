{
 "cells": [
  {
   "cell_type": "code",
   "execution_count": null,
   "metadata": {},
   "outputs": [],
   "source": [
    "#Q.01\n",
    "\n",
    "for x in range (1, 6):\n",
    "    print(x)"
   ]
  },
  {
   "cell_type": "code",
   "execution_count": null,
   "metadata": {},
   "outputs": [],
   "source": [
    "#Q.02\n",
    "\n",
    "for x in range (0, 11, 2):\n",
    "    print(x)"
   ]
  },
  {
   "cell_type": "code",
   "execution_count": null,
   "metadata": {},
   "outputs": [],
   "source": [
    "#Q.03\n",
    "\n",
    "for x in [\"maçã\", \"laranja\", \"uva\"]:\n",
    "    print(x)"
   ]
  },
  {
   "cell_type": "code",
   "execution_count": null,
   "metadata": {},
   "outputs": [],
   "source": [
    "#Q.04\n",
    "\n",
    "for x in range (10, 21, 2):\n",
    "    print(x)"
   ]
  },
  {
   "cell_type": "code",
   "execution_count": null,
   "metadata": {},
   "outputs": [],
   "source": [
    "#Q.05\n",
    "\n",
    "#lista = []\n",
    "#for y in range(1, 11):\n",
    "    #if y == 7:\n",
    "        #continue\n",
    "    #lista.append(y)\n",
    "#print(lista)\n",
    "\n",
    "#outra versão:\n",
    "\n",
    "for x in range(1, 11):\n",
    "    if x != 7:\n",
    "        print(x)\n",
    "\n",
    "\n",
    "    "
   ]
  },
  {
   "cell_type": "code",
   "execution_count": null,
   "metadata": {},
   "outputs": [],
   "source": [
    "#Q.06\n",
    "\n",
    "palavra = \"abacaxi\"\n",
    "lista = []\n",
    "for letra in palavra:\n",
    "    if letra == \"c\":\n",
    "        break\n",
    "    lista.append(letra)\n",
    "print(lista)\n",
    "\n",
    "#outra resolução correta\n",
    "\n",
    "#for x in \"abacaxi\":\n",
    "    #print(x)\n",
    "    #if x == \"c\":\n",
    "        #break\n",
    "    "
   ]
  },
  {
   "cell_type": "code",
   "execution_count": null,
   "metadata": {},
   "outputs": [],
   "source": [
    "#Q.7\n",
    "lista = [10, 5, 3, -7, 2, -8]\n",
    "\n",
    "for i in lista:\n",
    "    if i <= 0:\n",
    "        break\n",
    "    print(i)"
   ]
  },
  {
   "cell_type": "code",
   "execution_count": null,
   "metadata": {},
   "outputs": [],
   "source": [
    "#Q.8\n",
    "\n",
    "#palavras = [\"java\", \"c++\", \"python\", \"javascript\", \"ruby\"]\n",
    "\n",
    "#for i in palavras:\n",
    "    #if i == \"python\":\n",
    "        #break\n",
    "    #print(i)\n",
    "\n",
    "#outra versão\n",
    "\n",
    "for x in [\"java\", \"c++\", \"python\", \"javascript\", \"ruby\"]:\n",
    "    print(x)\n",
    "    if x == \"python\":\n",
    "        break"
   ]
  },
  {
   "cell_type": "code",
   "execution_count": 31,
   "metadata": {},
   "outputs": [
    {
     "name": "stdout",
     "output_type": "stream",
     "text": [
      "15\n",
      "18\n"
     ]
    }
   ],
   "source": [
    "#Q.9\n",
    "\n",
    "lista = [15, 18, 25, 30, 10, 5]\n",
    "\n",
    "for x in lista:\n",
    "    if x > 20:\n",
    "        break\n",
    "    print(x)\n",
    "\n",
    "#outra versão\n",
    "\n"
   ]
  }
 ],
 "metadata": {
  "kernelspec": {
   "display_name": "Python 3",
   "language": "python",
   "name": "python3"
  },
  "language_info": {
   "codemirror_mode": {
    "name": "ipython",
    "version": 3
   },
   "file_extension": ".py",
   "mimetype": "text/x-python",
   "name": "python",
   "nbconvert_exporter": "python",
   "pygments_lexer": "ipython3",
   "version": "3.12.0"
  }
 },
 "nbformat": 4,
 "nbformat_minor": 2
}
