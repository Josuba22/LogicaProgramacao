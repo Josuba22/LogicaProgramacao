{
 "cells": [
  {
   "cell_type": "code",
   "execution_count": null,
   "metadata": {},
   "outputs": [],
   "source": [
    "#Q.01\n",
    "\n",
    "for x in range (1, 6):\n",
    "    print(x)"
   ]
  },
  {
   "cell_type": "code",
   "execution_count": null,
   "metadata": {},
   "outputs": [],
   "source": [
    "#Q.02\n",
    "\n",
    "for x in range (0, 11, 2):\n",
    "    print(x)"
   ]
  },
  {
   "cell_type": "code",
   "execution_count": null,
   "metadata": {},
   "outputs": [],
   "source": [
    "#Q.03\n",
    "\n",
    "for x in [\"maçã\", \"laranja\", \"uva\"]:\n",
    "    print(x)"
   ]
  },
  {
   "cell_type": "code",
   "execution_count": null,
   "metadata": {},
   "outputs": [],
   "source": [
    "#Q.04\n",
    "\n",
    "for x in range (10, 21, 2):\n",
    "    print(x)"
   ]
  },
  {
   "cell_type": "code",
   "execution_count": null,
   "metadata": {},
   "outputs": [],
   "source": [
    "#Q.05\n",
    "\n",
    "#lista = []\n",
    "#for y in range(1, 11):\n",
    "    #if y == 7:\n",
    "        #continue\n",
    "    #lista.append(y)\n",
    "#print(lista)\n",
    "\n",
    "#outra versão:\n",
    "\n",
    "for x in range(1, 11):\n",
    "    if x != 7:\n",
    "        print(x)\n",
    "\n",
    "\n",
    "    "
   ]
  },
  {
   "cell_type": "code",
   "execution_count": null,
   "metadata": {},
   "outputs": [],
   "source": [
    "#Q.06\n",
    "\n",
    "palavra = \"abacaxi\"\n",
    "lista = []\n",
    "for letra in palavra:\n",
    "    if letra == \"c\":\n",
    "        break\n",
    "    lista.append(letra)\n",
    "print(lista)\n"
   ]
  },
  {
   "cell_type": "code",
   "execution_count": null,
   "metadata": {},
   "outputs": [],
   "source": [
    "#Q.7\n",
    "lista = [10, 5, 3, -7, 2, -8]\n",
    "\n",
    "for i in lista:\n",
    "    if lista == -i:\n",
    "        break\n",
    "    print(i)"
   ]
  },
  {
   "cell_type": "code",
   "execution_count": null,
   "metadata": {},
   "outputs": [],
   "source": [
    "# Matriz (lista dentro de uma lista)\n",
    "matriz = [[1, 2, 3],\n",
    "          [4, 5, 6],\n",
    "          [7, 8, 9]]\n",
    "\n",
    "# Imprimindo a linha 0 = [1, 2, 3]\n",
    "print(matriz[0])\n",
    "\n",
    "# Imprimindo o valor 1 = \"2\" da linha 0 = [1, 2, 3]\n",
    "print(matriz[1][0])\n",
    "\n",
    "# Exemplo de listas\n",
    "carrinho_de_compras = []\n",
    "\n",
    "# [nome do produto, quantidade, valor unitário]\n",
    "produto1 = [\"Maçã\", 2, 5.5]\n",
    "carrinho_de_compras.append(produto1) # Adicionando o produto 1 no carrinho\n",
    "\n",
    "produto2 = [\"Coca-cola\", 1, 7.5]\n",
    "carrinho_de_compras.append(produto2) # Adicionando o produto 2 no carrinho\n",
    "\n",
    "produto3 = [\"Biscoito\", 3, 3.5]\n",
    "carrinho_de_compras.append(produto3) # Adicionando o produto 3 no carrinho\n",
    "\n",
    "print(f\"Seu carrinho de compras é: {carrinho_de_compras}\")"
   ]
  }
 ],
 "metadata": {
  "kernelspec": {
   "display_name": "Python 3",
   "language": "python",
   "name": "python3"
  },
  "language_info": {
   "codemirror_mode": {
    "name": "ipython",
    "version": 3
   },
   "file_extension": ".py",
   "mimetype": "text/x-python",
   "name": "python",
   "nbconvert_exporter": "python",
   "pygments_lexer": "ipython3",
   "version": "3.12.0"
  }
 },
 "nbformat": 4,
 "nbformat_minor": 2
}
