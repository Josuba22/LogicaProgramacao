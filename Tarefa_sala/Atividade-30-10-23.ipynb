{
 "cells": [
  {
   "cell_type": "code",
   "execution_count": 13,
   "metadata": {},
   "outputs": [
    {
     "name": "stdout",
     "output_type": "stream",
     "text": [
      "O resultado da soma dos dois números é: 3\n"
     ]
    }
   ],
   "source": [
    "#Q.01\n",
    "\n",
    "n1 = int(input(\"Insira o primeiro número:\"))\n",
    "n2 = int(input(\"Insira o segundo número:\"))\n",
    "print(f\"O resultado da soma dos dois números é: {n1 + n2}\")"
   ]
  },
  {
   "cell_type": "code",
   "execution_count": 11,
   "metadata": {},
   "outputs": [
    {
     "name": "stdout",
     "output_type": "stream",
     "text": [
      "Correto!\n"
     ]
    }
   ],
   "source": [
    "#Q.2\n",
    "\n",
    "fruta = \"banana\"\n",
    "fruta = input(\"Tente adivinhar a fruta correta\")\n",
    "if fruta == \"banana\":\n",
    " print(\"Correto!\")\n",
    "else:\n",
    " print(\"Incorreto!\")"
   ]
  },
  {
   "cell_type": "code",
   "execution_count": 34,
   "metadata": {},
   "outputs": [
    {
     "name": "stdout",
     "output_type": "stream",
     "text": [
      "Dentro do intervalo\n"
     ]
    }
   ],
   "source": [
    "#Q.3\n",
    "\n",
    "numero = int(input(\"Insira seu número aqui\"))\n",
    "if numero > 10:\n",
    "    print(\"Fora do intervalo\")\n",
    "elif numero < 1:\n",
    "    print(\"Fora do intervalo\")\n",
    "else:\n",
    "    print(\"Dentro do intervalo\")"
   ]
  },
  {
   "cell_type": "code",
   "execution_count": 43,
   "metadata": {},
   "outputs": [
    {
     "name": "stdout",
     "output_type": "stream",
     "text": [
      "Saldo negativo\n"
     ]
    }
   ],
   "source": [
    "#Q.4\n",
    "\n",
    "saldo = 100.0\n",
    "\n",
    "if saldo > 0:\n",
    "    print(\"Saldo positivo\")\n",
    "elif saldo == 0:\n",
    "    print(\"Saldo zero\")\n",
    "else:\n",
    "    print(\"Saldo negativo\")"
   ]
  },
  {
   "cell_type": "code",
   "execution_count": 50,
   "metadata": {},
   "outputs": [
    {
     "name": "stdout",
     "output_type": "stream",
     "text": [
      "25.5 °C graus Celsius convertido em graus Fahrenheit é: 77.9 °F\n"
     ]
    }
   ],
   "source": [
    "#Q.5\n",
    "\n",
    "tempCelsius = 25.5\n",
    "print(f\"{tempCelsius} °C graus Celsius convertido em graus Fahrenheit é: {(tempCelsius * 1.8) + 32} °F\")\n"
   ]
  }
 ],
 "metadata": {
  "kernelspec": {
   "display_name": "Python 3",
   "language": "python",
   "name": "python3"
  },
  "language_info": {
   "codemirror_mode": {
    "name": "ipython",
    "version": 3
   },
   "file_extension": ".py",
   "mimetype": "text/x-python",
   "name": "python",
   "nbconvert_exporter": "python",
   "pygments_lexer": "ipython3",
   "version": "3.12.0"
  }
 },
 "nbformat": 4,
 "nbformat_minor": 2
}
