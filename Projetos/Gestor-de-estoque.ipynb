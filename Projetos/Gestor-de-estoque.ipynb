{
 "cells": [
  {
   "cell_type": "code",
   "execution_count": 2,
   "metadata": {},
   "outputs": [
    {
     "ename": "SyntaxError",
     "evalue": "invalid syntax (1590349035.py, line 1)",
     "output_type": "error",
     "traceback": [
      "\u001b[1;36m  Cell \u001b[1;32mIn[2], line 1\u001b[1;36m\u001b[0m\n\u001b[1;33m    class <link>Produto</link>:\u001b[0m\n\u001b[1;37m          ^\u001b[0m\n\u001b[1;31mSyntaxError\u001b[0m\u001b[1;31m:\u001b[0m invalid syntax\n"
     ]
    }
   ],
   "source": [
    "class <link>Produto</link>:\n",
    "    def __init__(self, nome, quantidade, preco_unitario):\n",
    "        self.nome = nome\n",
    "        self.quantidade = quantidade\n",
    "        self.preco_unitario = preco_unitario\n",
    "\n",
    "    def calcular_preco_consumidor(self, margem_lucro):\n",
    "        preco_consumidor = self.preco_unitario * (1 + margem_lucro)\n",
    "        return preco_consumidor\n",
    "\n",
    "    def gerar_dados(self):\n",
    "        dados = {\n",
    "            'Nome do Produto': self.nome,\n",
    "            'Quantidade em Estoque': self.quantidade,\n",
    "            'Preço Unitário': self.preco_unitario,\n",
    "            'Preço Consumidor Final': self.calcular_preco_consumidor(0.2)  # Exemplo de margem de lucro de 20%\n",
    "        }\n",
    "        return dados\n",
    "\n",
    "produtos = []\n",
    "\n",
    "def adicionar_produto():\n",
    "    nome = input(\"Digite o nome do produto: \")\n",
    "    quantidade = int(input(\"Digite a quantidade em estoque: \"))\n",
    "    preco_unitario = float(input(\"Digite o preço unitário do produto: \"))\n",
    "\n",
    "    produto = <link>Produto</link>(nome, quantidade, preco_unitario)\n",
    "    produtos.append(produto)\n",
    "    print(\"Produto adicionado com sucesso!\")\n",
    "\n",
    "def mostrar_estoque():\n",
    "    print(\"Estoque:\")\n",
    "    for produto in produtos:\n",
    "        print(f\"Nome do Produto: {produto.nome}\")\n",
    "        print(f\"Quantidade em Estoque: {produto.quantidade}\")\n",
    "        print(f\"Preço Unitário: {produto.preco_unitario}\")\n",
    "        print(f\"Preço Consumidor Final: {produto.calcular_preco_consumidor(0.2)}\")  # Exemplo de margem de lucro de 20%\n",
    "        print(\"\")\n",
    "\n",
    "def gerar_planilha():\n",
    "    dados = []\n",
    "    for produto in produtos:\n",
    "        dados.append(produto.gerar_dados())\n",
    "\n",
    "    with open('estoque.csv', 'w') as arquivo:\n",
    "        arquivo.write('Nome do Produto,Quantidade em Estoque,Preço Unitário,Preço Consumidor Final\\n')\n",
    "        for dado in dados:\n",
    "            arquivo.write(f\"{dado['Nome do Produto']},{dado['Quantidade em Estoque']},{dado['Preço Unitário']},{dado['Preço Consumidor Final']}\\n\")\n",
    "\n",
    "    print(\"Planilha gerada com sucesso!\")\n",
    "\n",
    "def menu():\n",
    "    opcao = -1\n",
    "    while opcao != 0:\n",
    "        print(\"===== MENU =====\")\n",
    "        print(\"1 - Adicionar produto\")\n",
    "        print(\"2 - Mostrar estoque\")\n",
    "        print(\"3 - Gerar planilha\")\n",
    "        print(\"0 - Sair\")\n",
    "        opcao = int(input(\"Escolha uma opção: \"))\n",
    "\n",
    "        if opcao == 1:\n",
    "            adicionar_produto()\n",
    "        elif opcao == 2:\n",
    "            mostrar_estoque()\n",
    "        elif opcao == 3:\n",
    "            gerar_planilha()\n",
    "        elif opcao == 0:\n",
    "            print(\"Saindo...\")\n",
    "        else:\n",
    "            print(\"Opção inválida!\")\n",
    "\n",
    "menu()"
   ]
  }
 ],
 "metadata": {
  "kernelspec": {
   "display_name": "Python 3",
   "language": "python",
   "name": "python3"
  },
  "language_info": {
   "codemirror_mode": {
    "name": "ipython",
    "version": 3
   },
   "file_extension": ".py",
   "mimetype": "text/x-python",
   "name": "python",
   "nbconvert_exporter": "python",
   "pygments_lexer": "ipython3",
   "version": "3.11.6"
  }
 },
 "nbformat": 4,
 "nbformat_minor": 2
}
